{
 "cells": [
  {
   "cell_type": "code",
   "execution_count": 5,
   "id": "f8e57c1e-ddcf-439c-b969-60c35255d9a6",
   "metadata": {},
   "outputs": [],
   "source": [
    "!pip install -q tensorflow torch numpy matplotlib torchvision scikit-learn\n"
   ]
  },
  {
   "cell_type": "code",
   "execution_count": 6,
   "id": "ce29e40e",
   "metadata": {},
   "outputs": [
    {
     "name": "stderr",
     "output_type": "stream",
     "text": [
      "2025-09-19 14:17:58.777937: I tensorflow/core/platform/cpu_feature_guard.cc:182] This TensorFlow binary is optimized to use available CPU instructions in performance-critical operations.\n",
      "To enable the following instructions: SSE4.1 SSE4.2 AVX AVX2 AVX_VNNI FMA, in other operations, rebuild TensorFlow with the appropriate compiler flags.\n"
     ]
    },
    {
     "name": "stdout",
     "output_type": "stream",
     "text": [
      "Setup completo. Módulos e configurações carregados.\n"
     ]
    }
   ],
   "source": [
    "import sys\n",
    "import os\n",
    "import tensorflow as tf\n",
    "import torch\n",
    "import torch.nn as nn\n",
    "import numpy as np\n",
    "import matplotlib.pyplot as plt\n",
    "import json\n",
    "from torchvision import transforms\n",
    "from torchvision.models import resnet50\n",
    "from sklearn.decomposition import PCA\n",
    "from tensorflow.keras.models import load_model, Model\n",
    "from tensorflow.keras.datasets import mnist\n",
    "\n",
    "# --- CORREÇÃO DE CAMINHO ---\n",
    "if os.getcwd() not in sys.path:\n",
    "    sys.path.append(os.getcwd())\n",
    "\n",
    "# --- OTIMIZAÇÃO DE MEMÓRIA DA GPU ---\n",
    "gpus = tf.config.experimental.list_physical_devices('GPU')\n",
    "if gpus:\n",
    "  try:\n",
    "    for gpu in gpus:\n",
    "      tf.config.experimental.set_memory_growth(gpu, True)\n",
    "    print(f\"Otimização de memória (Memory Growth) ativada para {len(gpus)} GPU(s).\")\n",
    "  except RuntimeError as e:\n",
    "    print(e)\n",
    "\n",
    "# --- IMPORTS DO PROJETO ---\n",
    "from config.training_config import CosFaceConfig, BaselineConfig, InferenceConfig\n",
    "from src.losses.margin_losses import CosFace\n",
    "\n",
    "print(\"Setup completo. Módulos e configurações carregados.\")"
   ]
  },
  {
   "cell_type": "code",
   "execution_count": 7,
   "id": "05a8884f",
   "metadata": {},
   "outputs": [
    {
     "name": "stdout",
     "output_type": "stream",
     "text": [
      "Arquitetura do modelo Baseline definida.\n"
     ]
    }
   ],
   "source": [
    "class BaselineResNet50(nn.Module):\n",
    "    def __init__(self, num_classes, embedding_size=512):\n",
    "        super(BaselineResNet50, self).__init__()\n",
    "        self.backbone = resnet50(weights=None)\n",
    "        backbone_output_features = self.backbone.fc.in_features\n",
    "        self.backbone.fc = nn.Identity()\n",
    "        self.embedding_layer = nn.Linear(backbone_output_features, embedding_size)\n",
    "        self.classifier = nn.Linear(embedding_size, num_classes)\n",
    "        \n",
    "    def forward(self, x):\n",
    "        x = self.backbone(x)\n",
    "        embedding = self.embedding_layer(x)\n",
    "        return embedding\n",
    "\n",
    "print(\"Arquitetura do modelo Baseline definida.\")"
   ]
  },
  {
   "cell_type": "code",
   "execution_count": 8,
   "id": "c8da7480",
   "metadata": {},
   "outputs": [
    {
     "name": "stdout",
     "output_type": "stream",
     "text": [
      "Processando modelo CosFace...\n"
     ]
    },
    {
     "name": "stderr",
     "output_type": "stream",
     "text": [
      "2025-09-19 14:18:11.826522: I tensorflow/core/common_runtime/process_util.cc:146] Creating new thread pool with default inter op setting: 2. Tune using inter_op_parallelism_threads for best performance.\n"
     ]
    },
    {
     "name": "stdout",
     "output_type": "stream",
     "text": [
      "Processando modelo Baseline...\n"
     ]
    },
    {
     "name": "stderr",
     "output_type": "stream",
     "text": [
      "/tmp/ipykernel_131599/1689704595.py:28: FutureWarning: You are using `torch.load` with `weights_only=False` (the current default value), which uses the default pickle module implicitly. It is possible to construct malicious pickle data which will execute arbitrary code during unpickling (See https://github.com/pytorch/pytorch/blob/main/SECURITY.md#untrusted-models for more details). In a future release, the default value for `weights_only` will be flipped to `True`. This limits the functions that could be executed during unpickling. Arbitrary objects will no longer be allowed to be loaded via this mode unless they are explicitly allowlisted by the user via `torch.serialization.add_safe_globals`. We recommend you start setting `weights_only=True` for any use case where you don't have full control of the loaded file. Please open an issue on GitHub for any issues related to this experimental feature.\n",
      "  baseline_model.load_state_dict(torch.load(baseline_cfg.CHECKPOINT_PATH, map_location=torch.device('cpu'))['model_state_dict'])\n"
     ]
    },
    {
     "ename": "FileNotFoundError",
     "evalue": "[Errno 2] No such file or directory: 'models/baseline_model_epoch_20.pth'",
     "output_type": "error",
     "traceback": [
      "\u001b[31m---------------------------------------------------------------------------\u001b[39m",
      "\u001b[31mFileNotFoundError\u001b[39m                         Traceback (most recent call last)",
      "\u001b[36mCell\u001b[39m\u001b[36m \u001b[39m\u001b[32mIn[8]\u001b[39m\u001b[32m, line 28\u001b[39m\n\u001b[32m     25\u001b[39m X_test_pytorch = torch.stack([preprocess_pytorch(img) \u001b[38;5;28;01mfor\u001b[39;00m img \u001b[38;5;129;01min\u001b[39;00m X_test[:sample_size]])\n\u001b[32m     27\u001b[39m baseline_model = BaselineResNet50(num_classes=baseline_cfg.NUM_CLASSES, embedding_size=baseline_cfg.EMBEDDING_SIZE)\n\u001b[32m---> \u001b[39m\u001b[32m28\u001b[39m baseline_model.load_state_dict(\u001b[43mtorch\u001b[49m\u001b[43m.\u001b[49m\u001b[43mload\u001b[49m\u001b[43m(\u001b[49m\u001b[43mbaseline_cfg\u001b[49m\u001b[43m.\u001b[49m\u001b[43mCHECKPOINT_PATH\u001b[49m\u001b[43m,\u001b[49m\u001b[43m \u001b[49m\u001b[43mmap_location\u001b[49m\u001b[43m=\u001b[49m\u001b[43mtorch\u001b[49m\u001b[43m.\u001b[49m\u001b[43mdevice\u001b[49m\u001b[43m(\u001b[49m\u001b[33;43m'\u001b[39;49m\u001b[33;43mcpu\u001b[39;49m\u001b[33;43m'\u001b[39;49m\u001b[43m)\u001b[49m\u001b[43m)\u001b[49m[\u001b[33m'\u001b[39m\u001b[33mmodel_state_dict\u001b[39m\u001b[33m'\u001b[39m])\n\u001b[32m     29\u001b[39m baseline_model.eval()\n\u001b[32m     30\u001b[39m \u001b[38;5;28;01mwith\u001b[39;00m torch.no_grad():\n",
      "\u001b[36mFile \u001b[39m\u001b[32m~/miniconda3/envs/face_project/lib/python3.11/site-packages/torch/serialization.py:1319\u001b[39m, in \u001b[36mload\u001b[39m\u001b[34m(f, map_location, pickle_module, weights_only, mmap, **pickle_load_args)\u001b[39m\n\u001b[32m   1316\u001b[39m \u001b[38;5;28;01mif\u001b[39;00m \u001b[33m\"\u001b[39m\u001b[33mencoding\u001b[39m\u001b[33m\"\u001b[39m \u001b[38;5;129;01mnot\u001b[39;00m \u001b[38;5;129;01min\u001b[39;00m pickle_load_args.keys():\n\u001b[32m   1317\u001b[39m     pickle_load_args[\u001b[33m\"\u001b[39m\u001b[33mencoding\u001b[39m\u001b[33m\"\u001b[39m] = \u001b[33m\"\u001b[39m\u001b[33mutf-8\u001b[39m\u001b[33m\"\u001b[39m\n\u001b[32m-> \u001b[39m\u001b[32m1319\u001b[39m \u001b[38;5;28;01mwith\u001b[39;00m \u001b[43m_open_file_like\u001b[49m\u001b[43m(\u001b[49m\u001b[43mf\u001b[49m\u001b[43m,\u001b[49m\u001b[43m \u001b[49m\u001b[33;43m\"\u001b[39;49m\u001b[33;43mrb\u001b[39;49m\u001b[33;43m\"\u001b[39;49m\u001b[43m)\u001b[49m \u001b[38;5;28;01mas\u001b[39;00m opened_file:\n\u001b[32m   1320\u001b[39m     \u001b[38;5;28;01mif\u001b[39;00m _is_zipfile(opened_file):\n\u001b[32m   1321\u001b[39m         \u001b[38;5;66;03m# The zipfile reader is going to advance the current file position.\u001b[39;00m\n\u001b[32m   1322\u001b[39m         \u001b[38;5;66;03m# If we want to actually tail call to torch.jit.load, we need to\u001b[39;00m\n\u001b[32m   1323\u001b[39m         \u001b[38;5;66;03m# reset back to the original position.\u001b[39;00m\n\u001b[32m   1324\u001b[39m         orig_position = opened_file.tell()\n",
      "\u001b[36mFile \u001b[39m\u001b[32m~/miniconda3/envs/face_project/lib/python3.11/site-packages/torch/serialization.py:659\u001b[39m, in \u001b[36m_open_file_like\u001b[39m\u001b[34m(name_or_buffer, mode)\u001b[39m\n\u001b[32m    657\u001b[39m \u001b[38;5;28;01mdef\u001b[39;00m\u001b[38;5;250m \u001b[39m\u001b[34m_open_file_like\u001b[39m(name_or_buffer, mode):\n\u001b[32m    658\u001b[39m     \u001b[38;5;28;01mif\u001b[39;00m _is_path(name_or_buffer):\n\u001b[32m--> \u001b[39m\u001b[32m659\u001b[39m         \u001b[38;5;28;01mreturn\u001b[39;00m \u001b[43m_open_file\u001b[49m\u001b[43m(\u001b[49m\u001b[43mname_or_buffer\u001b[49m\u001b[43m,\u001b[49m\u001b[43m \u001b[49m\u001b[43mmode\u001b[49m\u001b[43m)\u001b[49m\n\u001b[32m    660\u001b[39m     \u001b[38;5;28;01melse\u001b[39;00m:\n\u001b[32m    661\u001b[39m         \u001b[38;5;28;01mif\u001b[39;00m \u001b[33m\"\u001b[39m\u001b[33mw\u001b[39m\u001b[33m\"\u001b[39m \u001b[38;5;129;01min\u001b[39;00m mode:\n",
      "\u001b[36mFile \u001b[39m\u001b[32m~/miniconda3/envs/face_project/lib/python3.11/site-packages/torch/serialization.py:640\u001b[39m, in \u001b[36m_open_file.__init__\u001b[39m\u001b[34m(self, name, mode)\u001b[39m\n\u001b[32m    639\u001b[39m \u001b[38;5;28;01mdef\u001b[39;00m\u001b[38;5;250m \u001b[39m\u001b[34m__init__\u001b[39m(\u001b[38;5;28mself\u001b[39m, name, mode):\n\u001b[32m--> \u001b[39m\u001b[32m640\u001b[39m     \u001b[38;5;28msuper\u001b[39m().\u001b[34m__init__\u001b[39m(\u001b[38;5;28;43mopen\u001b[39;49m\u001b[43m(\u001b[49m\u001b[43mname\u001b[49m\u001b[43m,\u001b[49m\u001b[43m \u001b[49m\u001b[43mmode\u001b[49m\u001b[43m)\u001b[49m)\n",
      "\u001b[31mFileNotFoundError\u001b[39m: [Errno 2] No such file or directory: 'models/baseline_model_epoch_20.pth'"
     ]
    }
   ],
   "source": [
    "# Carrega as configurações\n",
    "cosface_cfg = CosFaceConfig()\n",
    "baseline_cfg = BaselineConfig()\n",
    "inference_cfg = InferenceConfig()\n",
    "\n",
    "# Carrega Dados\n",
    "(_, _), (X_test, y_test) = mnist.load_data()\n",
    "sample_size = inference_cfg.SAMPLE_SIZE\n",
    "\n",
    "# --- Processa Features do CosFace ---\n",
    "print(\"Processando modelo CosFace...\")\n",
    "X_test_keras = X_test[:sample_size, ..., np.newaxis].astype('float32') / 255\n",
    "cosface_model = load_model(cosface_cfg.CHECKPOINT_PATH, custom_objects={'CosFace': CosFace})\n",
    "feature_extractor = Model(inputs=cosface_model.input[0], outputs=cosface_model.layers[-3].output)\n",
    "cosface_features = feature_extractor.predict(X_test_keras, verbose=0)\n",
    "cosface_features /= np.linalg.norm(cosface_features, axis=1, keepdims=True)\n",
    "\n",
    "# --- Processa Features do Baseline ---\n",
    "print(\"Processando modelo Baseline...\")\n",
    "preprocess_pytorch = transforms.Compose([\n",
    "    transforms.ToPILImage(), transforms.Resize((224, 224)),\n",
    "    transforms.Grayscale(num_output_channels=3), transforms.ToTensor(),\n",
    "    transforms.Normalize(mean=[0.485, 0.456, 0.406], std=[0.229, 0.224, 0.225]),\n",
    "])\n",
    "X_test_pytorch = torch.stack([preprocess_pytorch(img) for img in X_test[:sample_size]])\n",
    "\n",
    "baseline_model = BaselineResNet50(num_classes=baseline_cfg.NUM_CLASSES, embedding_size=baseline_cfg.EMBEDDING_SIZE)\n",
    "baseline_model.load_state_dict(torch.load(baseline_cfg.CHECKPOINT_PATH, map_location=torch.device('cpu'))['model_state_dict'])\n",
    "baseline_model.eval()\n",
    "with torch.no_grad():\n",
    "    baseline_features_512d = baseline_model(X_test_pytorch).numpy()\n",
    "\n",
    "# --- Redução de Dimensionalidade (PCA) ---\n",
    "print(\"Reduzindo dimensionalidade do Baseline...\")\n",
    "pca = PCA(n_components=3)\n",
    "baseline_features_3d = pca.fit_transform(baseline_features_512d)\n",
    "baseline_features_3d /= np.linalg.norm(baseline_features_3d, axis=1, keepdims=True)\n",
    "\n",
    "# --- Salva Embeddings em JSON ---\n",
    "print(\"Salvando amostra de embeddings em formato JSON...\")\n",
    "y_test_sampled = y_test[:sample_size]\n",
    "embeddings_data = [{'id': i, 'label': int(y_test_sampled[i]), 'cosface_embedding': cosface_features[i].tolist(), 'baseline_embedding_3d': baseline_features_3d[i].tolist()} for i in range(sample_size)]\n",
    "json_output_path = 'deliverables/embeddings.json'\n",
    "os.makedirs(os.path.dirname(json_output_path), exist_ok=True)\n",
    "with open(json_output_path, 'w') as f:\n",
    "    json.dump(embeddings_data, f, indent=4)\n",
    "print(f\"Embeddings salvos em: {json_output_path}\")\n",
    "\n",
    "# --- Gera Gráfico Comparativo ---\n",
    "print(\"Gerando visualização...\")\n",
    "fig = plt.figure(figsize=(20, 9))\n",
    "plt.suptitle('Comparação do Espaço de Características: Baseline vs. CosFace', fontsize=16)\n",
    "\n",
    "ax1 = fig.add_subplot(1, 2, 1, projection='3d')\n",
    "for i in range(10):\n",
    "    idx = y_test_sampled == i\n",
    "    ax1.scatter(baseline_features_3d[idx, 0], baseline_features_3d[idx, 1], baseline_features_3d[idx, 2], label=f'Dígito {i}', alpha=0.4)\n",
    "ax1.set_title('Modelo Baseline (ResNet50 + Softmax)')\n",
    "ax1.legend()\n",
    "\n",
    "ax2 = fig.add_subplot(1, 2, 2, projection='3d')\n",
    "for i in range(10):\n",
    "    idx = y_test_sampled == i\n",
    "    ax2.scatter(cosface_features[idx, 0], cosface_features[idx, 1], cosface_features[idx, 2], label=f'Dígito {i}', alpha=0.4)\n",
    "ax2.set_title('Modelo Otimizado (VGG8 + CosFace)')\n",
    "ax2.legend()\n",
    "\n",
    "os.makedirs('reports/figures', exist_ok=True)\n",
    "plt.savefig(inference_cfg.OUTPUT_FIGURE_PATH)\n",
    "plt.show()\n",
    "\n",
    "print(f\"\\nGráfico comparativo salvo em: {inference_cfg.OUTPUT_FIGURE_PATH}\")"
   ]
  },
  {
   "cell_type": "code",
   "execution_count": null,
   "id": "257e0e9c",
   "metadata": {},
   "outputs": [],
   "source": [
    "# Célula 2: Carregamento dos Dados\n",
    "(X_train, y_train), (X_test, y_test) = mnist.load_data()\n",
    "X_test = X_test[:, :, :, np.newaxis].astype('float32') / 255\n"
   ]
  },
  {
   "cell_type": "code",
   "execution_count": null,
   "id": "27ee0d4a",
   "metadata": {},
   "outputs": [],
   "source": [
    "# Célula 3: Extração de Features\n",
    "model_path = '../experiments/checkpoints/mnist_vgg8_cosface_3d/model.keras'\n",
    "\n",
    "print(\"Carregando o modelo CosFace...\")\n",
    "cosface_model = load_model(model_path, custom_objects={'CosFace': CosFace})\n",
    "\n",
    "feature_extractor = Model(inputs=cosface_model.input[0], outputs=cosface_model.layers[-3].output)\n",
    "\n",
    "print(\"Extraindo features...\")\n",
    "cosface_features = feature_extractor.predict(X_test, verbose=1)\n",
    "cosface_features /= np.linalg.norm(cosface_features, axis=1, keepdims=True)\n"
   ]
  },
  {
   "cell_type": "code",
   "execution_count": null,
   "id": "35a21227",
   "metadata": {},
   "outputs": [],
   "source": [
    "# Célula 4: Geração e Salvamento do Gráfico\n",
    "print(\"Gerando visualização 3D...\")\n",
    "fig = plt.figure(figsize=(10, 8))\n",
    "ax = fig.add_subplot(projection='3d')\n",
    "\n",
    "for c in range(len(np.unique(y_test))):\n",
    "    ax.scatter(cosface_features[y_test==c, 0], \n",
    "               cosface_features[y_test==c, 1], \n",
    "               cosface_features[y_test==c, 2], \n",
    "               label=f'Dígito {c}',\n",
    "               alpha=0.2)\n",
    "\n",
    "ax.set_title('Visualização 3D das Features - CosFace')\n",
    "ax.set_xlabel('Feature 1')\n",
    "ax.set_ylabel('Feature 2')\n",
    "ax.set_zlabel('Feature 3')\n",
    "ax.legend()\n",
    "\n",
    "output_path = '../assets/cosface_visualization_notebook.png'\n",
    "plt.savefig(output_path)\n",
    "print(f\"Gráfico salvo com sucesso como '{output_path}'!\")\n",
    "plt.show() # Exibe o gráfico no notebook também\n"
   ]
  }
 ],
 "metadata": {
  "kernelspec": {
   "display_name": "Python 3 (ipykernel)",
   "language": "python",
   "name": "python3"
  },
  "language_info": {
   "codemirror_mode": {
    "name": "ipython",
    "version": 3
   },
   "file_extension": ".py",
   "mimetype": "text/x-python",
   "name": "python",
   "nbconvert_exporter": "python",
   "pygments_lexer": "ipython3",
   "version": "3.11.5"
  }
 },
 "nbformat": 4,
 "nbformat_minor": 5
}
